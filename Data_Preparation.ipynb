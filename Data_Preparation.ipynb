{
 "cells": [
  {
   "cell_type": "code",
   "execution_count": 14,
   "metadata": {
    "collapsed": true
   },
   "outputs": [],
   "source": [
    "import numpy as np\n",
    "import pandas as pd\n",
    "import matplotlib.pyplot as plt\n",
    "import pytz"
   ]
  },
  {
   "cell_type": "code",
   "execution_count": 15,
   "metadata": {},
   "outputs": [
    {
     "data": {
      "text/plain": [
       "\"\\ndf1= three days' order gulf sh data\\ndf2= three days' order taxi sh data\\ndf_all= three days' sh data   ----251062, 12\\n\""
      ]
     },
     "execution_count": 15,
     "metadata": {},
     "output_type": "execute_result"
    }
   ],
   "source": [
    "'''\n",
    "df1= three days' order gulf sh data\n",
    "df2= three days' order taxi sh data\n",
    "df_all= three days' sh data   ----251062, 12\n",
    "'''"
   ]
  },
  {
   "cell_type": "code",
   "execution_count": 16,
   "metadata": {
    "collapsed": true
   },
   "outputs": [],
   "source": [
    "\n",
    "# Shanghai-order-gulf-12\n",
    "col = list(range(0,12))\n",
    "df1= pd.read_csv('/Users/serenazhang/Desktop/didi_project/github/order_sh_22_gulf.csv',header=None, usecols=col,\n",
    "                 sep=',',\n",
    "                 names=['order_id','driver_id','car_id','city','start_long','start_lat',\n",
    "                        'end_long','end_lat','start_time','end_time','type','label'])\n",
    "col = list(range(0,12))\n",
    "df1_1= pd.read_csv('/Users/serenazhang/Desktop/didi_project/github/order_sh_23_gulf.csv',header=None, usecols=col,\n",
    "                 sep=',',\n",
    "                 names=['order_id','driver_id','car_id','city','start_long','start_lat',\n",
    "                        'end_long','end_lat','start_time','end_time','type','label'])\n",
    "col = list(range(0,12))\n",
    "df1_2= pd.read_csv('/Users/serenazhang/Desktop/didi_project/github/order_sh_24_gulf.csv',header=None, usecols=col,\n",
    "                 sep=',',\n",
    "                 names=['order_id','driver_id','car_id','city','start_long','start_lat',\n",
    "                        'end_long','end_lat','start_time','end_time','type','label'])\n",
    "frames = [df1,df1_1,df1_2]\n",
    "df1 = pd.concat(frames)\n",
    "\n"
   ]
  },
  {
   "cell_type": "code",
   "execution_count": 23,
   "metadata": {},
   "outputs": [
    {
     "data": {
      "text/html": [
       "<div>\n",
       "<style>\n",
       "    .dataframe thead tr:only-child th {\n",
       "        text-align: right;\n",
       "    }\n",
       "\n",
       "    .dataframe thead th {\n",
       "        text-align: left;\n",
       "    }\n",
       "\n",
       "    .dataframe tbody tr th {\n",
       "        vertical-align: top;\n",
       "    }\n",
       "</style>\n",
       "<table border=\"1\" class=\"dataframe\">\n",
       "  <thead>\n",
       "    <tr style=\"text-align: right;\">\n",
       "      <th></th>\n",
       "      <th>order_id</th>\n",
       "      <th>driver_id</th>\n",
       "      <th>car_id</th>\n",
       "      <th>city</th>\n",
       "      <th>start_long</th>\n",
       "      <th>start_lat</th>\n",
       "      <th>end_long</th>\n",
       "      <th>end_lat</th>\n",
       "      <th>start_time</th>\n",
       "      <th>end_time</th>\n",
       "      <th>type</th>\n",
       "      <th>label</th>\n",
       "    </tr>\n",
       "  </thead>\n",
       "  <tbody>\n",
       "  </tbody>\n",
       "</table>\n",
       "</div>"
      ],
      "text/plain": [
       "Empty DataFrame\n",
       "Columns: [order_id, driver_id, car_id, city, start_long, start_lat, end_long, end_lat, start_time, end_time, type, label]\n",
       "Index: []"
      ]
     },
     "execution_count": 23,
     "metadata": {},
     "output_type": "execute_result"
    }
   ],
   "source": []
  },
  {
   "cell_type": "code",
   "execution_count": 17,
   "metadata": {},
   "outputs": [
    {
     "name": "stdout",
     "output_type": "stream",
     "text": [
      "                            order_id                         driver_id  \\\n",
      "10  cde24521911253897f7aaa757db8f63f  c5f50851e5456e570e4239f93a94cb9c   \n",
      "\n",
      "                              car_id city  start_long  start_lat   end_long  \\\n",
      "10  6f841dc0f531d9b0f8dbc6bbfbe20349  上海市  121.412758  31.231092  121.43865   \n",
      "\n",
      "     end_lat           start_time             end_time  type  \\\n",
      "10  31.25756  2016-12-22 00:19:13  2016-12-22 00:41:40  gulf   \n",
      "\n",
      "                  label  \n",
      "10  2367020225580438500  \n"
     ]
    }
   ],
   "source": [
    "# Shanghai-order-taxi-12/22\n",
    "col = list(range(0,12))\n",
    "df2= pd.read_csv('/Users/serenazhang/Desktop/didi_project/github/order_sh_22_taxi.csv',\n",
    "                               header=None, usecols=col,sep=',',\n",
    "                               names=['order_id','driver_id','car_id','city','start_long','start_lat',\n",
    "                                      'end_long','end_lat','start_time','end_time','type','label'])\n",
    "df2_1= pd.read_csv('/Users/serenazhang/Desktop/didi_project/github/order_sh_23_taxi.csv',\n",
    "                               header=None, usecols=col,sep=',',\n",
    "                               names=['order_id','driver_id','car_id','city','start_long','start_lat',\n",
    "                                      'end_long','end_lat','start_time','end_time','type','label'])\n",
    "df2_2= pd.read_csv('/Users/serenazhang/Desktop/didi_project/github/order_sh_24_taxi.csv',\n",
    "                               header=None, usecols=col,sep=',',\n",
    "                               names=['order_id','driver_id','car_id','city','start_long','start_lat',\n",
    "                                      'end_long','end_lat','start_time','end_time','type','label'])\n",
    "frames = [df2,df2_1,df2_2]\n",
    "df2 = pd.concat(frames)\n",
    "df_all=pd.concat([df1,df2])\n",
    "print(df_all.loc[df_all.order_id.isin(['cde24521911253897f7aaa757db8f63f'])])"
   ]
  },
  {
   "cell_type": "code",
   "execution_count": 11,
   "metadata": {},
   "outputs": [],
   "source": [
    "# Shanghai-gps-gulf-12/22\n",
    "col = list(range(0,5))\n",
    "df3= pd.read_csv('/Users/serenazhang/Desktop/didi_project/github/gps_data/sh_gps_gulf_22_17.csv',\n",
    "                               header=None, usecols=col,sep=',',\n",
    "                               names=['order_id','time','longitude','latitude','speed'])\n",
    "df4= pd.read_csv('/Users/serenazhang/Desktop/didi_project/github/gps_data/sh_gps_gulf_22_18.csv',\n",
    "                               header=None, usecols=col,sep=',',\n",
    "                               names=['order_id','time','longitude','latitude','speed'])\n",
    "df5= pd.read_csv('/Users/serenazhang/Desktop/didi_project/github/gps_data/sh_gps_gulf_23_17.csv',\n",
    "                               header=None, usecols=col,sep=',',\n",
    "                               names=['order_id','time','longitude','latitude','speed'])\n",
    "frames = [df3,df4,df5]\n",
    "df_gps = pd.concat(frames)\n",
    "df_gps['time'] = pd.to_datetime(df_gps['time'],unit='s',utc=True)\n",
    "df_gps[\"time\"]=df_gps.time.dt.tz_localize(\"UTC\").dt.tz_convert(pytz.timezone('Asia/Shanghai'))"
   ]
  },
  {
   "cell_type": "code",
   "execution_count": 7,
   "metadata": {
    "collapsed": true
   },
   "outputs": [],
   "source": [
    "'''\n",
    "df_all data preperation\n",
    "'''\n",
    "#add column \"cnt_of_same_trip\" for number of occurence of same label given label number\n",
    "df_all['cnt_of_same_trip'] = df_all.groupby(['label'])[\"label\"].transform('count')\n",
    "df_all.loc[df_all.cnt_of_same_trip>3,'cnt_of_same_trip']=0\n",
    "#changing time column to datetime object\n",
    "df_all.start_time=pd.to_datetime(df_all.start_time)\n",
    "#df_all.drop(df_all.loc[df_all[\"end_time\"]==\"0000-00-00 00:00:00\"])\n",
    "#df_all.end_time=pd.to_datetime(df_all.end_time)\n"
   ]
  },
  {
   "cell_type": "code",
   "execution_count": null,
   "metadata": {
    "collapsed": true
   },
   "outputs": [],
   "source": [
    "df_all.to_pickle('/Users/serenazhang/Desktop/didi_project/github/df_all_sh_order')"
   ]
  },
  {
   "cell_type": "code",
   "execution_count": 12,
   "metadata": {
    "collapsed": true
   },
   "outputs": [],
   "source": [
    "df_gps.to_pickle('/Users/serenazhang/Desktop/didi_project/github/df_sh_gps')"
   ]
  },
  {
   "cell_type": "code",
   "execution_count": 22,
   "metadata": {},
   "outputs": [
    {
     "data": {
      "text/html": [
       "<div>\n",
       "<style>\n",
       "    .dataframe thead tr:only-child th {\n",
       "        text-align: right;\n",
       "    }\n",
       "\n",
       "    .dataframe thead th {\n",
       "        text-align: left;\n",
       "    }\n",
       "\n",
       "    .dataframe tbody tr th {\n",
       "        vertical-align: top;\n",
       "    }\n",
       "</style>\n",
       "<table border=\"1\" class=\"dataframe\">\n",
       "  <thead>\n",
       "    <tr style=\"text-align: right;\">\n",
       "      <th></th>\n",
       "      <th>order_id</th>\n",
       "      <th>driver_id</th>\n",
       "      <th>car_id</th>\n",
       "      <th>city</th>\n",
       "      <th>start_long</th>\n",
       "      <th>start_lat</th>\n",
       "      <th>end_long</th>\n",
       "      <th>end_lat</th>\n",
       "      <th>start_time</th>\n",
       "      <th>end_time</th>\n",
       "      <th>type</th>\n",
       "      <th>label</th>\n",
       "    </tr>\n",
       "  </thead>\n",
       "  <tbody>\n",
       "  </tbody>\n",
       "</table>\n",
       "</div>"
      ],
      "text/plain": [
       "Empty DataFrame\n",
       "Columns: [order_id, driver_id, car_id, city, start_long, start_lat, end_long, end_lat, start_time, end_time, type, label]\n",
       "Index: []"
      ]
     },
     "execution_count": 22,
     "metadata": {},
     "output_type": "execute_result"
    }
   ],
   "source": []
  },
  {
   "cell_type": "code",
   "execution_count": 8,
   "metadata": {
    "collapsed": true
   },
   "outputs": [],
   "source": [
    "k=df_all[\"cnt_of_same_trip\"].value_counts().reset_index().rename(\n",
    "    columns={'index': 'cnt_of_same_trips', \"cnt_of_same_trip\": 'count'})\n",
    "\n"
   ]
  },
  {
   "cell_type": "code",
   "execution_count": 9,
   "metadata": {},
   "outputs": [
    {
     "data": {
      "image/png": "[encoded data removed]",
      "text/plain": [
       "<matplotlib.figure.Figure at 0x1195f1748>"
      ]
     },
     "metadata": {},
     "output_type": "display_data"
    }
   ],
   "source": [
    "#group number of shared rides by hour\n",
    "grouped=df_all.groupby(pd.TimeGrouper(key='start_time', freq='H'))[\"label\"].apply(lambda x:(x >0).sum())\n",
    "\n",
    "#rename columns and add \"date\",\"hour\" columns\n",
    "shared_by_hour=grouped.reset_index().rename(columns={\"label\":\"cnt_of_shared\"})\n",
    "shared_by_hour[\"date\"],shared_by_hour[\"hour\"]=shared_by_hour.start_time.dt.date,shared_by_hour.start_time.dt.hour\n",
    "\n",
    "#convert to pivot table and plot number of ride sharing by hour\n",
    "shared_by_hour=shared_by_hour.pivot(index=\"hour\", columns=\"date\", values=\"cnt_of_shared\")\n",
    "shared_by_hour.iloc[:, 0:4].plot(subplots=True)\n",
    "plt.show()\n"
   ]
  },
  {
   "cell_type": "code",
   "execution_count": null,
   "metadata": {
    "collapsed": true
   },
   "outputs": [],
   "source": [
    "# #code for carto\n",
    "# #construct new order dataset with only 12.22 within a time period after 10AM\n",
    "# df4=df1.loc[(df1.start_time.dt.hour==10)&(df1.start_time.dt.minute<15)]\n",
    "# df4.loc[\"start_minute\"]=df4.start_time.dt.minute\n",
    "# df4.loc[\"end_minute\"]=df4.end_time.dt.minute\n",
    "# #construct new gps dataset with only 12.22 within 10AM --541897\n",
    "# df5=df3.loc[(df3.time.dt.hour==10)&(df3.time.dt.minute<15)]\n",
    "# df5[\"minute\"]=df5.time.dt.minute\n",
    "\n",
    "\n",
    "\n"
   ]
  },
  {
   "cell_type": "code",
   "execution_count": null,
   "metadata": {
    "collapsed": true
   },
   "outputs": [],
   "source": [
    "# #merging 10AM gps and order data\n",
    "# df_merged=df4.merge(df5, left_on='order_id', right_on='order_id', how='inner')\n",
    "# df_shared=df_merged.loc[df_merged[\"label\"]>0]\n",
    "# df_normal=df_merged.loc[df_merged[\"label\"]==0]"
   ]
  },
  {
   "cell_type": "code",
   "execution_count": null,
   "metadata": {
    "collapsed": true
   },
   "outputs": [],
   "source": [
    "# df_normal.to_csv(\"test_normal.csv\")\n",
    "# df_shared.to_csv(\"test_shared.csv\")"
   ]
  },
  {
   "cell_type": "code",
   "execution_count": null,
   "metadata": {
    "collapsed": true
   },
   "outputs": [],
   "source": [
    "# df_merged[\"shared\"]=np.where(df_merged['label']>0, 'yes', 'no')\n",
    "# df_merged.to_csv(\"test_all.csv\")"
   ]
  },
  {
   "cell_type": "code",
   "execution_count": null,
   "metadata": {
    "collapsed": true
   },
   "outputs": [],
   "source": [
    "#--------ignore everything below--------------\n",
    "#len(np.unique(gps_beijing.drive_id))\n",
    "#gps_beijing.loc[gps_beijing.drive_id.isin(['27d9bf7400e451b84281cddb09bc022e']),]\n",
    "# combine dataframs\n",
    "#frames = [bj_gulf_22, bj_gulf_23,bj_gulf_24]\n",
    "#bj_gulf = pd.concat(frames)"
   ]
  },
  {
   "cell_type": "code",
   "execution_count": null,
   "metadata": {
    "collapsed": true
   },
   "outputs": [],
   "source": []
  }
 ],
 "metadata": {
  "kernelspec": {
   "display_name": "Python 3",
   "language": "python",
   "name": "python3"
  },
  "language_info": {
   "codemirror_mode": {
    "name": "ipython",
    "version": 3
   },
   "file_extension": ".py",
   "mimetype": "text/x-python",
   "name": "python",
   "nbconvert_exporter": "python",
   "pygments_lexer": "ipython3",
   "version": "3.6.1"
  }
 },
 "nbformat": 4,
 "nbformat_minor": 2
}

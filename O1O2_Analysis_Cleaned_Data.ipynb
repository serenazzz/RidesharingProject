{
 "cells": [
  {
   "cell_type": "code",
   "execution_count": 1,
   "metadata": {
    "collapsed": true
   },
   "outputs": [],
   "source": [
    "import numpy as np\n",
    "import pandas as pd\n",
    "import matplotlib.pyplot as plt\n",
    "from math import radians, cos, sin, asin, sqrt,pow\n",
    "import pytz\n",
    "import os\n",
    "import seaborn as sns"
   ]
  },
  {
   "cell_type": "markdown",
   "metadata": {},
   "source": [
    "## Loading Data:\n",
    "- df_gulf: shanghai, gulf, order data\n",
    "- df_taxi: shanghai, taxi, order data"
   ]
  },
  {
   "cell_type": "code",
   "execution_count": 2,
   "metadata": {
    "collapsed": true
   },
   "outputs": [],
   "source": [
    "days = [22,23,24]\n",
    "frames=[]\n",
    "types=[\"gulf\",\"taxi\"]\n",
    "for type in types:\n",
    "    for day in days:\n",
    "        path ='/Users/serenazhang/Desktop/didi_project/github/order_data/order_sh_{0}_{1}.csv'.format(day,type)\n",
    "        col=['order_id','type',\"label\"]\n",
    "        frame = pd.read_csv(path,sep=\",\",usecols=[0,10,11],header=0, names=col)\n",
    "        frames.append(frame)\n",
    "df_order= pd.concat(frames)"
   ]
  },
  {
   "cell_type": "code",
   "execution_count": 3,
   "metadata": {
    "collapsed": true
   },
   "outputs": [],
   "source": [
    "frames=[]\n",
    "for type in types:\n",
    "    for day in days:\n",
    "        path ='/Users/serenazhang/Desktop/didi_project/github/cleaned/odcleaned_{1}_{0}.txt'.format(day,type)\n",
    "        col=['order_id','ox','oy','o_time','dx','dy','d_time','path_len','path_time']\n",
    "        frame = pd.read_csv(path,sep=\",\",header=1, names=col)\n",
    "        frames.append(frame)\n",
    "df= pd.concat(frames)"
   ]
  },
  {
   "cell_type": "code",
   "execution_count": 4,
   "metadata": {
    "collapsed": true
   },
   "outputs": [],
   "source": [
    "df=df.merge(df_order, on='order_id',how='inner')"
   ]
  },
  {
   "cell_type": "code",
   "execution_count": 5,
   "metadata": {},
   "outputs": [],
   "source": [
    "#add column \"cnt_of_same_trip\" for number of occurence of same label given label number\n",
    "df['cnt_of_same_trip'] = df.groupby(['label'])[\"label\"].transform('count')\n",
    "df.loc[df.cnt_of_same_trip>3,'cnt_of_same_trip']=0\n",
    "#changing time column to datetime object\n",
    "df['o_time'] = pd.to_datetime(df['o_time'],unit='s',utc=True)\n",
    "df[\"o_time\"]=df.o_time.dt.tz_localize(\"UTC\").dt.tz_convert(pytz.timezone('Asia/Shanghai'))\n",
    "df['d_time'] = pd.to_datetime(df['d_time'],unit='s',utc=True)\n",
    "df[\"d_time\"]=df.d_time.dt.tz_localize(\"UTC\").dt.tz_convert(pytz.timezone('Asia/Shanghai'))\n",
    "df[[\"ox\",\"oy\",\"dx\",\"dy\"]]=df[[\"ox\",\"oy\",\"dx\",\"dy\"]].astype(float)"
   ]
  },
  {
   "cell_type": "code",
   "execution_count": null,
   "metadata": {
    "collapsed": true
   },
   "outputs": [],
   "source": []
  },
  {
   "cell_type": "markdown",
   "metadata": {},
   "source": [
    "## Exploring O1-O2 patterns\n",
    "#### (For shared trips, O1 is the first origin and O2 is the second origin)\n",
    "- What's the distrbution of distance between O1-O2?\n",
    "- What's the distrbution of time between O1-O2?"
   ]
  },
  {
   "cell_type": "code",
   "execution_count": 7,
   "metadata": {
    "collapsed": true
   },
   "outputs": [],
   "source": [
    "#assign origin orders\n",
    "df[\"shared_order\"]=0\n",
    "gr = df.loc[df[\"label\"]!=0].sort_values('o_time').groupby('label')\n",
    "df.loc[df[\"label\"]!=0,'shared_order'] = gr.cumcount()"
   ]
  },
  {
   "cell_type": "code",
   "execution_count": 42,
   "metadata": {},
   "outputs": [],
   "source": [
    "def dis_dif(dd):\n",
    "    if dd.shape[0]>1:\n",
    "        fr=dd[dd[\"shared_order\"]==0]\n",
    "        to=dd[dd[\"shared_order\"]==1]\n",
    "        result=sqrt(pow((fr.iloc[0][\"ox\"]-to.iloc[0][\"ox\"]),2)+pow((fr.iloc[0][\"oy\"]-to.iloc[0][\"oy\"]),2))\n",
    "        return result\n",
    "def time_dif(dd):\n",
    "    if dd.shape[0]>1:\n",
    "        fr=dd[dd[\"shared_order\"]==0]\n",
    "        to=dd[dd[\"shared_order\"]==1]\n",
    "        result=(to.iloc[0][\"o_time\"]-fr.iloc[0][\"o_time\"]).total_seconds()\n",
    "        return result"
   ]
  },
  {
   "cell_type": "code",
   "execution_count": 38,
   "metadata": {},
   "outputs": [],
   "source": [
    "cal_dis=df.loc[df[\"label\"]!=0].groupby(\"label\").apply(dis_dif).reset_index().rename(\n",
    "    columns={0: 'distance'})\n",
    "cal_dis=cal_dis[np.abs(cal_dis['distance']-cal_dis['distance'].mean())<=(3*cal_dis['distance'].std())]\n",
    "cal_dis_array=cal_dis[cal_dis[\"distance\"]>0][\"distance\"].as_matrix()"
   ]
  },
  {
   "cell_type": "code",
   "execution_count": 45,
   "metadata": {},
   "outputs": [],
   "source": [
    "cal_time=df.loc[df[\"label\"]!=0].groupby(\"label\").apply(time_dif).reset_index().rename(\n",
    "    columns={0: 'time'})"
   ]
  },
  {
   "cell_type": "code",
   "execution_count": 48,
   "metadata": {},
   "outputs": [],
   "source": [
    "cal_time=cal_time[np.abs(cal_time['time']-cal_time['time'].mean())<=(3*cal_time['time'].std())]\n",
    "cal_time_array=cal_time[cal_time[\"time\"]>0][\"time\"].as_matrix()"
   ]
  },
  {
   "cell_type": "code",
   "execution_count": 46,
   "metadata": {},
   "outputs": [
    {
     "data": {
      "text/plain": [
       "count     244.000000\n",
       "mean      593.639344\n",
       "std       578.239873\n",
       "min         6.000000\n",
       "25%       250.000000\n",
       "50%       432.000000\n",
       "75%       764.000000\n",
       "max      4116.000000\n",
       "Name: time, dtype: float64"
      ]
     },
     "execution_count": 46,
     "metadata": {},
     "output_type": "execute_result"
    }
   ],
   "source": [
    "cal_time.time.describe()"
   ]
  },
  {
   "cell_type": "code",
   "execution_count": 28,
   "metadata": {},
   "outputs": [
    {
     "data": {
      "text/plain": [
       "count     240.000000\n",
       "mean     1303.685482\n",
       "std      1423.553370\n",
       "min         0.000000\n",
       "25%       387.591120\n",
       "50%       807.025983\n",
       "75%      1554.196007\n",
       "max      6641.440618\n",
       "Name: distance, dtype: float64"
      ]
     },
     "execution_count": 28,
     "metadata": {},
     "output_type": "execute_result"
    }
   ],
   "source": [
    "cal_dis.distance.describe()"
   ]
  },
  {
   "cell_type": "code",
   "execution_count": 61,
   "metadata": {},
   "outputs": [
    {
     "data": {
      "image/png": "[encoded data removed]",
      "text/plain": [
       "<matplotlib.figure.Figure at 0x118111c18>"
      ]
     },
     "metadata": {},
     "output_type": "display_data"
    }
   ],
   "source": [
    "sns.set()\n",
    "%matplotlib inline\n",
    "f, (ax1, ax2) = plt.subplots(2,figsize=(10,8))\n",
    "sns.distplot(cal_dis_array,ax=ax1)\n",
    "sns.distplot(cal_time_array,ax=ax2)\n",
    "ax1.set_title(\"Distribution of Distance Difference Between O1 and O2\")\n",
    "ax2.set_title(\"Distribution of Time Difference Between O1 and O2\")\n",
    "ax1.set(xlabel='distance in m', ylabel='density')\n",
    "ax2.set(xlabel='time in sec', ylabel='density')\n",
    "plt.tight_layout()\n"
   ]
  },
  {
   "cell_type": "code",
   "execution_count": 13,
   "metadata": {
    "collapsed": true
   },
   "outputs": [],
   "source": [
    "def dis(lon1, lat1, lon2, lat2):\n",
    "    lon1, lat1, lon2, lat2 = map(radians, [lon1, lat1, lon2, lat2])\n",
    "    # haversine公式\n",
    "    dlon = lon2 - lon1 \n",
    "    dlat = lat2 - lat1 \n",
    "    a = sin(dlat/2)**2 + cos(lat1) * cos(lat2) * sin(dlon/2)**2\n",
    "    c = 2 * asin(sqrt(a)) \n",
    "    r = 6371 # 地球平均半径，单位为公里\n",
    "    return c * r * 1000"
   ]
  },
  {
   "cell_type": "code",
   "execution_count": null,
   "metadata": {
    "collapsed": true
   },
   "outputs": [],
   "source": [
    "\n",
    "\n"
   ]
  },
  {
   "cell_type": "code",
   "execution_count": null,
   "metadata": {
    "collapsed": true
   },
   "outputs": [],
   "source": []
  }
 ],
 "metadata": {
  "kernelspec": {
   "display_name": "Python 3",
   "language": "python",
   "name": "python3"
  },
  "language_info": {
   "codemirror_mode": {
    "name": "ipython",
    "version": 3
   },
   "file_extension": ".py",
   "mimetype": "text/x-python",
   "name": "python",
   "nbconvert_exporter": "python",
   "pygments_lexer": "ipython3",
   "version": "3.6.1"
  }
 },
 "nbformat": 4,
 "nbformat_minor": 2
}

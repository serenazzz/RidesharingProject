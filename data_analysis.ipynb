{
 "cells": [
  {
   "cell_type": "code",
   "execution_count": 1,
   "metadata": {
    "collapsed": true
   },
   "outputs": [],
   "source": [
    "from pandas import DataFrame, read_csv\n",
    "import numpy as np\n",
    "\n",
    "# General syntax to import a library but no functions: \n",
    "##import (library) as (give the library a nickname/alias)\n",
    "import matplotlib.pyplot as plt\n",
    "import pandas as pd #this is how I usually import pandas\n",
    "import sys #only needed to determine Python version number\n",
    "import matplotlib #only needed to determine Matplotlib version number\n",
    "from geopy.distance import great_circle\n",
    "from math import radians, cos, sin, asin, sqrt  \n",
    "import matplotlib.pyplot as plt\n",
    "import matplotlib\n",
    "import plotly \n",
    "import plotly.graph_objs as go\n",
    "import pickle \n",
    "from itertools import *\n",
    "import time\n",
    "from datetime import datetime\n",
    "from time import mktime as mktime\n",
    "import math"
   ]
  },
  {
   "cell_type": "code",
   "execution_count": 2,
   "metadata": {},
   "outputs": [
    {
     "name": "stdout",
     "output_type": "stream",
     "text": [
      "                          driver_id  time_stamp       long       lat  \\\n",
      "0  df2c9a98642f145b1851f7ad93271463  1482338873  121.37512  31.17396   \n",
      "1  df2c9a98642f145b1851f7ad93271463  1482338879  121.37444  31.17364   \n",
      "\n",
      "       speed  \n",
      "0  15.483894  \n",
      "1   9.560732  \n"
     ]
    }
   ],
   "source": [
    "data_tra = pd.read_csv('part-00000')\n",
    "col_name = data_tra.columns[0]\n",
    "data_tra = data_tra.rename(columns={col_name: 'driver_id'})\n",
    "col_name = data_tra.columns[1]\n",
    "data_tra = data_tra.rename(columns={col_name: 'time_stamp'})\n",
    "col_name = data_tra.columns[2]\n",
    "data_tra = data_tra.rename(columns={col_name: 'long'})\n",
    "col_name = data_tra.columns[3]\n",
    "data_tra = data_tra.rename(columns={col_name: 'lat'})\n",
    "col_name = data_tra.columns[4]\n",
    "data_tra = data_tra.rename(columns={col_name: 'speed'})\n",
    "print (data_tra.head(2))"
   ]
  },
  {
   "cell_type": "code",
   "execution_count": 23,
   "metadata": {},
   "outputs": [
    {
     "name": "stdout",
     "output_type": "stream",
     "text": [
      "                          driver_id  time_stamp       long       lat  \\\n",
      "0  df2c9a98642f145b1851f7ad93271463  1482338873  121.37512  31.17396   \n",
      "1  df2c9a98642f145b1851f7ad93271463  1482338879  121.37444  31.17364   \n",
      "\n",
      "       speed  \n",
      "0  15.483894  \n",
      "1   9.560732  \n"
     ]
    }
   ],
   "source": [
    "print (data_tra.head(2))"
   ]
  },
  {
   "cell_type": "code",
   "execution_count": 29,
   "metadata": {},
   "outputs": [
    {
     "name": "stdout",
     "output_type": "stream",
     "text": [
      "0\n"
     ]
    }
   ],
   "source": [
    "normal_count = 0\n",
    "for i in range (0, len(data_tra)):\n",
    "    if data_tra.long.iloc[i] > 122 or data_tra.long.iloc[i] < 120 or data_tra.lat.iloc[i] > 32 or data_tra.lat.iloc[i] < 30:\n",
    "        normal_count = normal_count + 1\n",
    "print (normal_count)"
   ]
  },
  {
   "cell_type": "code",
   "execution_count": 3,
   "metadata": {},
   "outputs": [
    {
     "name": "stdout",
     "output_type": "stream",
     "text": [
      "                           order_id                         driver_id  \\\n",
      "0  f7027490d9285bc7c5093c362d1a93f3  5e46d25a1683b1406544fd5bcd99690f   \n",
      "1  a2bf16cc826ba72663df2e5233bc28f2  d7b3faea707e94500bb4c586576190ed   \n",
      "\n",
      "                         vehicle_id city  order_origin_long  order_origin_lat  \\\n",
      "0  2d9802f32516a333e144cda5d6b407af  上海市          121.48069         31.226961   \n",
      "1  64bf073fa5c3488141448e36e47a9860  上海市          121.44343         31.251110   \n",
      "\n",
      "   order_destination_long  order_destination_lat  order_starting_time  \\\n",
      "0               121.37585               31.23105  2016-12-22 00:07:53   \n",
      "1               121.45295               31.18215  2016-12-22 00:06:15   \n",
      "\n",
      "     order_ending_time vehicle_type  travel_id  \n",
      "0  2016-12-22 00:32:22         gulf          0  \n",
      "1  2016-12-22 00:28:36         gulf          0  \n"
     ]
    }
   ],
   "source": [
    "datatest1 = pd.read_csv('part-00000-order')\n",
    "col_name = datatest1.columns[0]\n",
    "datatest1 = datatest1.rename(columns={col_name: 'order_id'})\n",
    "col_name = datatest1.columns[1]\n",
    "datatest1 = datatest1.rename(columns={col_name: 'driver_id'})\n",
    "col_name = datatest1.columns[2]\n",
    "datatest1 = datatest1.rename(columns={col_name: 'vehicle_id'})\n",
    "col_name = datatest1.columns[3]\n",
    "datatest1 = datatest1.rename(columns={col_name: 'city'})\n",
    "col_name = datatest1.columns[4]\n",
    "datatest1 = datatest1.rename(columns={col_name: 'order_origin_long'})\n",
    "col_name = datatest1.columns[5]\n",
    "datatest1 = datatest1.rename(columns={col_name: 'order_origin_lat'})\n",
    "col_name = datatest1.columns[6]\n",
    "datatest1 = datatest1.rename(columns={col_name: 'order_destination_long'})\n",
    "col_name = datatest1.columns[7]\n",
    "datatest1 = datatest1.rename(columns={col_name: 'order_destination_lat'})\n",
    "col_name = datatest1.columns[8]\n",
    "datatest1 = datatest1.rename(columns={col_name: 'order_starting_time'})\n",
    "col_name = datatest1.columns[9]\n",
    "datatest1 = datatest1.rename(columns={col_name: 'order_ending_time'})\n",
    "col_name = datatest1.columns[10]\n",
    "datatest1 = datatest1.rename(columns={col_name: 'vehicle_type'})\n",
    "col_name = datatest1.columns[11]\n",
    "datatest1 = datatest1.rename(columns={col_name: 'trip_id'})\n",
    "print (datatest1.head(2))"
   ]
  },
  {
   "cell_type": "code",
   "execution_count": 19,
   "metadata": {},
   "outputs": [],
   "source": [
    "# datatest2 = datatest1[datatest1.order_id == data_tra.driver_id.iloc[10000]]\n",
    "datatest2 = datatest1[datatest1.travel_id > 0]\n",
    "# datatest3 = datatest1[datatest1.travel_id == 333644997607636240]\n",
    "datatest2 = datatest2.sort_values(by = 'trip_id')\n",
    "# print (datatest3)\n",
    "count = 0 \n",
    "for i in range (1,len(datatest2['trip_id'])):\n",
    "    if datatest2['trip_id'].iloc[i-1] == datatest2['trip_id'].iloc[i]:\n",
    "        count = count + 1\n",
    "#         print (i)\n",
    "# print (count)\n",
    "# print (datatest2['travel_id'].iloc[186])\n",
    "# print (datatest2['travel_id'].iloc[187])"
   ]
  },
  {
   "cell_type": "code",
   "execution_count": null,
   "metadata": {
    "collapsed": true
   },
   "outputs": [],
   "source": []
  }
 ],
 "metadata": {
  "kernelspec": {
   "display_name": "Python 3",
   "language": "python",
   "name": "python3"
  },
  "language_info": {
   "codemirror_mode": {
    "name": "ipython",
    "version": 3
   },
   "file_extension": ".py",
   "mimetype": "text/x-python",
   "name": "python",
   "nbconvert_exporter": "python",
   "pygments_lexer": "ipython3",
   "version": "3.6.1"
  }
 },
 "nbformat": 4,
 "nbformat_minor": 2
}

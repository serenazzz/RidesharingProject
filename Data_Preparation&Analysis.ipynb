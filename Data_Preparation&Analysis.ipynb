{
 "cells": [
  {
   "cell_type": "code",
   "execution_count": 13,
   "metadata": {
    "collapsed": true
   },
   "outputs": [],
   "source": [
    "import numpy as np\n",
    "import pandas as pd\n",
    "import matplotlib.pyplot as plt"
   ]
  },
  {
   "cell_type": "code",
   "execution_count": 14,
   "metadata": {
    "collapsed": true
   },
   "outputs": [],
   "source": [
    "# Shanghai-order-gulf-12/22\n",
    "col = list(range(0,12))\n",
    "df1= pd.read_csv('/Users/serenazhang/Desktop/didi_project/order_sh_22_gulf',header=None, usecols=col,\n",
    "                 sep=',',\n",
    "                 names=['order_id','driver_id','car_id','city','start_long','start_lat',\n",
    "                        'end_long','end_lat','start_time','end_time','type','label'])\n"
   ]
  },
  {
   "cell_type": "code",
   "execution_count": 15,
   "metadata": {
    "collapsed": true
   },
   "outputs": [],
   "source": [
    "# Shanghai-order-taxi-12/22\n",
    "col = list(range(0,12))\n",
    "df2= pd.read_csv('/Users/serenazhang/Desktop/didi_project/order_sh_22_taxi',\n",
    "                               header=None, usecols=col,sep=',',\n",
    "                               names=['order_id','driver_id','car_id','city','start_long','start_lat',\n",
    "                                      'end_long','end_lat','start_time','end_time','type','label'])"
   ]
  },
  {
   "cell_type": "code",
   "execution_count": 16,
   "metadata": {},
   "outputs": [],
   "source": [
    "#changing time column to datetime object\n",
    "df1.start_time=pd.to_datetime(df1.start_time)\n",
    "df1.end_time=pd.to_datetime(df1.end_time)\n",
    "#df2.start_time=pd.to_datetime(df2.start_time)\n",
    "#df2.end_time=pd.to_datetime(df2.end_time)"
   ]
  },
  {
   "cell_type": "code",
   "execution_count": 17,
   "metadata": {},
   "outputs": [],
   "source": [
    "#add column \"cnt_of_same_trip\" for number of occurence of same label given label number\n",
    "df1['cnt_of_same_trip'] = df1.groupby(['label'])[\"label\"].transform('count')\n",
    "k=df1[\"cnt_of_same_trip\"].value_counts().reset_index().rename(\n",
    "    columns={'index': 'cnt_of_same_trips', \"cnt_of_same_trip\": 'count'})"
   ]
  },
  {
   "cell_type": "code",
   "execution_count": 18,
   "metadata": {},
   "outputs": [
    {
     "data": {
      "image/png": "[encoded data removed]",
      "text/plain": [
       "<matplotlib.figure.Figure at 0x107531ac8>"
      ]
     },
     "metadata": {},
     "output_type": "display_data"
    }
   ],
   "source": [
    "#group number of shared rides by hour\n",
    "grouped=df1.groupby(pd.TimeGrouper(key='start_time', freq='H'))[\"label\"].apply(lambda x:(x >0).sum())\n",
    "\n",
    "#rename columns and add \"date\",\"hour\" columns\n",
    "shared_by_hour=grouped.reset_index().rename(columns={\"label\":\"cnt_of_shared\"})\n",
    "shared_by_hour[\"date\"],shared_by_hour[\"hour\"]=shared_by_hour.start_time.dt.date,shared_by_hour.start_time.dt.hour\n",
    "\n",
    "#convert to pivot table and plot number of ride sharing by hour\n",
    "shared_by_hour=shared_by_hour.pivot(index=\"hour\", columns=\"date\", values=\"cnt_of_shared\")\n",
    "shared_by_hour.iloc[:, 0:4].plot(subplots=True)\n",
    "plt.show()\n"
   ]
  },
  {
   "cell_type": "code",
   "execution_count": 19,
   "metadata": {
    "collapsed": true
   },
   "outputs": [],
   "source": [
    "#--------ignore everything below--------------\n",
    "#len(np.unique(gps_beijing.drive_id))\n",
    "#gps_beijing.loc[gps_beijing.drive_id.isin(['0010ca8e353bfef088d5988c8dbd8c3d']),]\n",
    "#gulf.to_pickle('/Users/serehazhang/Desktop/didi_project/gulf')\n",
    "#taxi.to_pickle('/Users/serenazhang/Desktop/didi_project/taxi')\n",
    "# combine dataframs\n",
    "#frames = [bj_gulf_22, bj_gulf_23,bj_gulf_24]\n",
    "#bj_gulf = pd.concat(frames)"
   ]
  }
 ],
 "metadata": {
  "kernelspec": {
   "display_name": "Python 3",
   "language": "python",
   "name": "python3"
  },
  "language_info": {
   "codemirror_mode": {
    "name": "ipython",
    "version": 3
   },
   "file_extension": ".py",
   "mimetype": "text/x-python",
   "name": "python",
   "nbconvert_exporter": "python",
   "pygments_lexer": "ipython3",
   "version": "3.6.1"
  }
 },
 "nbformat": 4,
 "nbformat_minor": 2
}

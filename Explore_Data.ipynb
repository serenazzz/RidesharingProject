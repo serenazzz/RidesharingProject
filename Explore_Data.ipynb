{
 "cells": [
  {
   "cell_type": "code",
   "execution_count": 1,
   "metadata": {
    "collapsed": true
   },
   "outputs": [],
   "source": [
    "import numpy as np\n",
    "import pandas as pd"
   ]
  },
  {
   "cell_type": "code",
   "execution_count": 2,
   "metadata": {
    "collapsed": false
   },
   "outputs": [],
   "source": [
    "gulf = pd.read_pickle('gulf')\n",
    "taxi = pd.read_pickle('taxi')"
   ]
  },
  {
   "cell_type": "code",
   "execution_count": 23,
   "metadata": {
    "collapsed": false
   },
   "outputs": [
    {
     "data": {
      "text/html": [
       "<div>\n",
       "<table border=\"1\" class=\"dataframe\">\n",
       "  <thead>\n",
       "    <tr style=\"text-align: right;\">\n",
       "      <th></th>\n",
       "      <th>city</th>\n",
       "      <th>start_long</th>\n",
       "      <th>start_lat</th>\n",
       "      <th>end_long</th>\n",
       "      <th>end_lat</th>\n",
       "      <th>start_time</th>\n",
       "      <th>end_time</th>\n",
       "      <th>type</th>\n",
       "      <th>label</th>\n",
       "    </tr>\n",
       "  </thead>\n",
       "  <tbody>\n",
       "    <tr>\n",
       "      <th>0</th>\n",
       "      <td>北京市</td>\n",
       "      <td>116.32343</td>\n",
       "      <td>39.89747</td>\n",
       "      <td>116.30094</td>\n",
       "      <td>39.88813</td>\n",
       "      <td>2016-12-22 08:17:45</td>\n",
       "      <td>2016-12-22 08:27:06</td>\n",
       "      <td>gulf</td>\n",
       "      <td>0</td>\n",
       "    </tr>\n",
       "    <tr>\n",
       "      <th>1</th>\n",
       "      <td>北京市</td>\n",
       "      <td>116.29758</td>\n",
       "      <td>39.92169</td>\n",
       "      <td>116.20081</td>\n",
       "      <td>39.93249</td>\n",
       "      <td>2016-12-22 00:11:44</td>\n",
       "      <td>2016-12-22 00:24:21</td>\n",
       "      <td>gulf</td>\n",
       "      <td>0</td>\n",
       "    </tr>\n",
       "    <tr>\n",
       "      <th>2</th>\n",
       "      <td>北京市</td>\n",
       "      <td>116.34038</td>\n",
       "      <td>40.04395</td>\n",
       "      <td>116.39757</td>\n",
       "      <td>39.90693</td>\n",
       "      <td>2016-12-24 06:50:03</td>\n",
       "      <td>2016-12-24 07:20:35</td>\n",
       "      <td>gulf</td>\n",
       "      <td>0</td>\n",
       "    </tr>\n",
       "    <tr>\n",
       "      <th>3</th>\n",
       "      <td>北京市</td>\n",
       "      <td>116.47050</td>\n",
       "      <td>39.90030</td>\n",
       "      <td>116.47661</td>\n",
       "      <td>39.86796</td>\n",
       "      <td>2016-12-22 00:09:22</td>\n",
       "      <td>2016-12-22 00:23:39</td>\n",
       "      <td>gulf</td>\n",
       "      <td>0</td>\n",
       "    </tr>\n",
       "    <tr>\n",
       "      <th>4</th>\n",
       "      <td>北京市</td>\n",
       "      <td>116.49607</td>\n",
       "      <td>39.92822</td>\n",
       "      <td>116.46900</td>\n",
       "      <td>39.95150</td>\n",
       "      <td>2016-12-22 00:07:36</td>\n",
       "      <td>2016-12-22 00:20:11</td>\n",
       "      <td>gulf</td>\n",
       "      <td>0</td>\n",
       "    </tr>\n",
       "  </tbody>\n",
       "</table>\n",
       "</div>"
      ],
      "text/plain": [
       "  city  start_long  start_lat   end_long   end_lat           start_time  \\\n",
       "0  北京市   116.32343   39.89747  116.30094  39.88813  2016-12-22 08:17:45   \n",
       "1  北京市   116.29758   39.92169  116.20081  39.93249  2016-12-22 00:11:44   \n",
       "2  北京市   116.34038   40.04395  116.39757  39.90693  2016-12-24 06:50:03   \n",
       "3  北京市   116.47050   39.90030  116.47661  39.86796  2016-12-22 00:09:22   \n",
       "4  北京市   116.49607   39.92822  116.46900  39.95150  2016-12-22 00:07:36   \n",
       "\n",
       "              end_time  type  label  \n",
       "0  2016-12-22 08:27:06  gulf      0  \n",
       "1  2016-12-22 00:24:21  gulf      0  \n",
       "2  2016-12-24 07:20:35  gulf      0  \n",
       "3  2016-12-22 00:23:39  gulf      0  \n",
       "4  2016-12-22 00:20:11  gulf      0  "
      ]
     },
     "execution_count": 23,
     "metadata": {},
     "output_type": "execute_result"
    }
   ],
   "source": [
    "gulf.head()"
   ]
  },
  {
   "cell_type": "code",
   "execution_count": 36,
   "metadata": {
    "collapsed": false
   },
   "outputs": [
    {
     "ename": "NameError",
     "evalue": "name 'label' is not defined",
     "output_type": "error",
     "traceback": [
      "\u001b[0;31m---------------------------------------------------------------------------\u001b[0m",
      "\u001b[0;31mNameError\u001b[0m                                 Traceback (most recent call last)",
      "\u001b[0;32m<ipython-input-36-41cc0e4945e1>\u001b[0m in \u001b[0;36m<module>\u001b[0;34m()\u001b[0m\n\u001b[0;32m----> 1\u001b[0;31m \u001b[0mlabel\u001b[0m\u001b[0;34m\u001b[0m\u001b[0m\n\u001b[0m",
      "\u001b[0;31mNameError\u001b[0m: name 'label' is not defined"
     ]
    }
   ],
   "source": [
    "label"
   ]
  },
  {
   "cell_type": "code",
   "execution_count": 12,
   "metadata": {
    "collapsed": false
   },
   "outputs": [],
   "source": [
    "unique, counts = np.unique(gulf.label, return_counts=True)\n"
   ]
  },
  {
   "cell_type": "code",
   "execution_count": 22,
   "metadata": {
    "collapsed": false
   },
   "outputs": [
    {
     "data": {
      "text/plain": [
       "array([                  0,      97148620203148,      97159731897388, ...,\n",
       "       9222061816955460216, 9222061817466862878, 9222061822214211013])"
      ]
     },
     "execution_count": 22,
     "metadata": {},
     "output_type": "execute_result"
    }
   ],
   "source": [
    "unique"
   ]
  },
  {
   "cell_type": "code",
   "execution_count": 13,
   "metadata": {
    "collapsed": false
   },
   "outputs": [],
   "source": [
    "counts[::-1].sort()"
   ]
  },
  {
   "cell_type": "code",
   "execution_count": 35,
   "metadata": {
    "collapsed": false
   },
   "outputs": [
    {
     "data": {
      "text/plain": [
       "array([458213,      3,      3, ...,      1,      1,      1])"
      ]
     },
     "execution_count": 35,
     "metadata": {},
     "output_type": "execute_result"
    }
   ],
   "source": [
    "counts[:-100]"
   ]
  },
  {
   "cell_type": "code",
   "execution_count": 7,
   "metadata": {
    "collapsed": false
   },
   "outputs": [
    {
     "data": {
      "text/plain": [
       "(545714, 9)"
      ]
     },
     "execution_count": 7,
     "metadata": {},
     "output_type": "execute_result"
    }
   ],
   "source": [
    "gulf.shape"
   ]
  },
  {
   "cell_type": "code",
   "execution_count": 18,
   "metadata": {
    "collapsed": false
   },
   "outputs": [
    {
     "data": {
      "text/plain": [
       "0.12392663060797002"
      ]
     },
     "execution_count": 18,
     "metadata": {},
     "output_type": "execute_result"
    }
   ],
   "source": [
    "(545714 - 458213) / ( 160357 + 545714)"
   ]
  },
  {
   "cell_type": "code",
   "execution_count": 30,
   "metadata": {
    "collapsed": false
   },
   "outputs": [
    {
     "data": {
      "text/plain": [
       "array([                  0,      97148620203148,      97159731897388, ...,\n",
       "       9222061816955460216, 9222061817466862878, 9222061822214211013])"
      ]
     },
     "execution_count": 30,
     "metadata": {},
     "output_type": "execute_result"
    }
   ],
   "source": []
  },
  {
   "cell_type": "code",
   "execution_count": null,
   "metadata": {
    "collapsed": true
   },
   "outputs": [],
   "source": []
  }
 ],
 "metadata": {
  "kernelspec": {
   "display_name": "Python [conda env:py35]",
   "language": "python",
   "name": "conda-env-py35-py"
  },
  "language_info": {
   "codemirror_mode": {
    "name": "ipython",
    "version": 3
   },
   "file_extension": ".py",
   "mimetype": "text/x-python",
   "name": "python",
   "nbconvert_exporter": "python",
   "pygments_lexer": "ipython3",
   "version": "3.5.2"
  }
 },
 "nbformat": 4,
 "nbformat_minor": 2
}
